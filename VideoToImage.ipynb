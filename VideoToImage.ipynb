{
 "cells": [
  {
   "cell_type": "code",
   "execution_count": 3,
   "metadata": {},
   "outputs": [
    {
     "name": "stdout",
     "output_type": "stream",
     "text": [
      "処理が完了しました。\n"
     ]
    }
   ],
   "source": [
    "import cv2\n",
    "import os\n",
    "import json\n",
    "\n",
    "# パラメータファイルの読み込み\n",
    "with open('parameters.json', 'r') as f:\n",
    "    params = json.load(f)\n",
    "\n",
    "# 入力動画フォルダと出力画像フォルダの設定\n",
    "input_folder = params['input_folder']\n",
    "output_folder = params['output_folder']\n",
    "\n",
    "# 出力フォルダが存在しない場合は作成\n",
    "if not os.path.exists(output_folder):\n",
    "    os.makedirs(output_folder)\n",
    "\n",
    "# 動画ファイルの処理\n",
    "for video_file in os.listdir(input_folder):\n",
    "    if video_file.endswith(('.mp4', '.avi', '.mov')):  # 対応する動画形式を追加\n",
    "        video_path = os.path.join(input_folder, video_file)\n",
    "        cap = cv2.VideoCapture(video_path)\n",
    "        \n",
    "        frame_count = 0\n",
    "        while True:\n",
    "            ret, frame = cap.read()\n",
    "            if not ret:\n",
    "                break\n",
    "            \n",
    "            if frame_count % params['frame_interval'] == 0:\n",
    "                output_path = os.path.join(output_folder, f\"{video_file[:-4]}_{frame_count:06d}.jpg\")\n",
    "                cv2.imwrite(output_path, frame)\n",
    "            \n",
    "            frame_count += 1\n",
    "        \n",
    "        cap.release()\n",
    "\n",
    "print(\"処理が完了しました。\")"
   ]
  }
 ],
 "metadata": {
  "kernelspec": {
   "display_name": "gci",
   "language": "python",
   "name": "python3"
  },
  "language_info": {
   "codemirror_mode": {
    "name": "ipython",
    "version": 3
   },
   "file_extension": ".py",
   "mimetype": "text/x-python",
   "name": "python",
   "nbconvert_exporter": "python",
   "pygments_lexer": "ipython3",
   "version": "3.12.4"
  }
 },
 "nbformat": 4,
 "nbformat_minor": 2
}
